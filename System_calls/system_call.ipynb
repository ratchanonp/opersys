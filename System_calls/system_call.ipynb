{
 "cells": [
  {
   "cell_type": "code",
   "execution_count": 2,
   "metadata": {},
   "outputs": [],
   "source": [
    "text = \"\"\"\n",
    "execve(\"./system_calls\", [\"./system_calls\"], 0x7ffd26f41540 /* 33 vars */) = 0\n",
    "brk(NULL)                               = 0x21e9000\n",
    "arch_prctl(0x3001 /* ARCH_??? */, 0x7ffed59d0fb0) = -1 EINVAL (Invalid argument)\n",
    "access(\"/etc/ld.so.preload\", R_OK)      = -1 ENOENT (No such file or directory)\n",
    "openat(AT_FDCWD, \"/etc/ld.so.cache\", O_RDONLY|O_CLOEXEC) = 3\n",
    "newfstatat(3, \"\", {st_mode=S_IFREG|0644, st_size=14331, ...}, AT_EMPTY_PATH) = 0\n",
    "mmap(NULL, 14331, PROT_READ, MAP_PRIVATE, 3, 0) = 0x7f18f3ae8000\n",
    "close(3)                                = 0\n",
    "openat(AT_FDCWD, \"/lib64/libc.so.6\", O_RDONLY|O_CLOEXEC) = 3\n",
    "read(3, \"\\177ELF\\2\\1\\1\\3\\0\\0\\0\\0\\0\\0\\0\\0\\3\\0>\\0\\1\\0\\0\\0p\\0\\4\\0\\0\\0\\0\\0\"..., 832) = 832\n",
    "pread64(3, \"\\6\\0\\0\\0\\4\\0\\0\\0@\\0\\0\\0\\0\\0\\0\\0@\\0\\0\\0\\0\\0\\0\\0@\\0\\0\\0\\0\\0\\0\\0\"..., 784, 64) = 784\n",
    "pread64(3, \"\\4\\0\\0\\0@\\0\\0\\0\\5\\0\\0\\0GNU\\0\\2\\0\\0\\300\\4\\0\\0\\0\\3\\0\\0\\0\\0\\0\\0\\0\"..., 80, 848) = 80\n",
    "pread64(3, \"\\4\\0\\0\\0\\24\\0\\0\\0\\3\\0\\0\\0GNU\\0\\254%|\\v\\225\\304\\241Dh-\\231\\203\\303\\353\\224\\206\"..., 68, 928) = 68\n",
    "newfstatat(3, \"\", {st_mode=S_IFREG|0755, st_size=2385592, ...}, AT_EMPTY_PATH) = 0\n",
    "mmap(NULL, 8192, PROT_READ|PROT_WRITE, MAP_PRIVATE|MAP_ANONYMOUS, -1, 0) = 0x7f18f3ae6000\n",
    "pread64(3, \"\\6\\0\\0\\0\\4\\0\\0\\0@\\0\\0\\0\\0\\0\\0\\0@\\0\\0\\0\\0\\0\\0\\0@\\0\\0\\0\\0\\0\\0\\0\"..., 784, 64) = 784\n",
    "mmap(NULL, 2129808, PROT_READ, MAP_PRIVATE|MAP_DENYWRITE, 3, 0) = 0x7f18f3800000\n",
    "mmap(0x7f18f3828000, 1527808, PROT_READ|PROT_EXEC, MAP_PRIVATE|MAP_FIXED|MAP_DENYWRITE, 3, 0x28000) = 0x7f18f3828000\n",
    "mmap(0x7f18f399d000, 360448, PROT_READ, MAP_PRIVATE|MAP_FIXED|MAP_DENYWRITE, 3, 0x19d000) = 0x7f18f399d000\n",
    "mmap(0x7f18f39f5000, 24576, PROT_READ|PROT_WRITE, MAP_PRIVATE|MAP_FIXED|MAP_DENYWRITE, 3, 0x1f5000) = 0x7f18f39f5000\n",
    "mmap(0x7f18f39fb000, 53136, PROT_READ|PROT_WRITE, MAP_PRIVATE|MAP_FIXED|MAP_ANONYMOUS, -1, 0) = 0x7f18f39fb000\n",
    "close(3)                                = 0\n",
    "mmap(NULL, 8192, PROT_READ|PROT_WRITE, MAP_PRIVATE|MAP_ANONYMOUS, -1, 0) = 0x7f18f3ae4000\n",
    "arch_prctl(ARCH_SET_FS, 0x7f18f3ae7600) = 0\n",
    "set_tid_address(0x7f18f3ae78d0)         = 26098\n",
    "set_robust_list(0x7f18f3ae78e0, 24)     = 0\n",
    "rseq(0x7f18f3ae7fa0, 0x20, 0, 0x53053053) = 0\n",
    "mprotect(0x7f18f39f5000, 16384, PROT_READ) = 0\n",
    "mprotect(0x403000, 4096, PROT_READ)     = 0\n",
    "mprotect(0x7f18f3b1f000, 8192, PROT_READ) = 0\n",
    "prlimit64(0, RLIMIT_STACK, NULL, {rlim_cur=10240*1024, rlim_max=10240*1024}) = 0\n",
    "munmap(0x7f18f3ae8000, 14331)           = 0\n",
    "newfstatat(0, \"\", {st_mode=S_IFCHR|0620, st_rdev=makedev(0x88, 0), ...}, AT_EMPTY_PATH) = 0\n",
    "getrandom(\"\\x5b\\x3c\\x71\\x27\\x3a\\x77\\xfa\\xb8\", 8, GRND_NONBLOCK) = 8\n",
    "brk(NULL)                               = 0x21e9000\n",
    "brk(0x220a000)                          = 0x220a000\n",
    "read(0, test.txt\n",
    "\"test.txt\\n\", 1024)             = 9\n",
    "openat(AT_FDCWD, \"test.txt\", O_RDONLY)  = 3\n",
    "newfstatat(3, \"\", {st_mode=S_IFREG|0644, st_size=4, ...}, AT_EMPTY_PATH) = 0\n",
    "read(3, \"test\", 4096)                   = 4\n",
    "newfstatat(1, \"\", {st_mode=S_IFCHR|0620, st_rdev=makedev(0x88, 0), ...}, AT_EMPTY_PATH) = 0\n",
    "close(3)                                = 0\n",
    "write(1, \"t\", 1t)                        = 1\n",
    "lseek(0, -1, SEEK_CUR)                  = -1 ESPIPE (Illegal seek)\n",
    "exit_group(0)                   \n",
    "\"\"\""
   ]
  },
  {
   "cell_type": "code",
   "execution_count": 3,
   "metadata": {},
   "outputs": [
    {
     "name": "stdout",
     "output_type": "stream",
     "text": [
      "execve, brk, arch_prctl, access, openat, newfstatat, mmap, close, openat, read, pread64, pread64, pread64, newfstatat, mmap, pread64, mmap, mmap, mmap, mmap, mmap, close, mmap, arch_prctl, set_tid_address, set_robust_list, rseq, mprotect, mprotect, mprotect, prlimit64, munmap, newfstatat, makedev, getrandom, brk, brk, read, openat, newfstatat, read, newfstatat, makedev, close, write, lseek, exit_group\n"
     ]
    }
   ],
   "source": [
    "# Get function names before the \"(\" character\n",
    "import re\n",
    "function_names = re.findall(r\"([a-zA-Z0-9_]+)\\(\", text)\n",
    "print(\", \".join(function_names))"
   ]
  }
 ],
 "metadata": {
  "kernelspec": {
   "display_name": "py311",
   "language": "python",
   "name": "python3"
  },
  "language_info": {
   "codemirror_mode": {
    "name": "ipython",
    "version": 3
   },
   "file_extension": ".py",
   "mimetype": "text/x-python",
   "name": "python",
   "nbconvert_exporter": "python",
   "pygments_lexer": "ipython3",
   "version": "3.11.4"
  },
  "orig_nbformat": 4
 },
 "nbformat": 4,
 "nbformat_minor": 2
}
